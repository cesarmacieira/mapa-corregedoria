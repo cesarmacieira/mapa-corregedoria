{
 "cells": [
  {
   "cell_type": "code",
   "execution_count": 1,
   "id": "afbbe11f-9fbe-431e-8fad-797e133646fc",
   "metadata": {},
   "outputs": [],
   "source": [
    "import pandas as pd\n",
    "import re\n",
    "import openpyxl"
   ]
  },
  {
   "cell_type": "code",
   "execution_count": 3,
   "id": "cb0c4cda-81b9-4e3c-9bc9-0fd364a2a656",
   "metadata": {},
   "outputs": [],
   "source": [
    "dados = pd.read_excel('dados_exportados.xlsx')"
   ]
  },
  {
   "cell_type": "code",
   "execution_count": 6,
   "id": "866673bb-ef20-406f-ad5c-81b07c7133b7",
   "metadata": {},
   "outputs": [],
   "source": [
    "tabela = dados.groupby([\"CARGO\", \"LOTACAO_PAI\"]).size().unstack(fill_value=0)\n",
    "grupos_subsecao = {\n",
    "    'TOTAL_FORTALEZA': [\n",
    "        '1ª VARA - FORTALEZA-CE','2ª VARA - FORTALEZA-CE','3ª VARA - FORTALEZA-CE','4ª VARA - FORTALEZA-CE','5ª VARA - FORTALEZA-CE',\n",
    "        '6ª VARA - FORTALEZA-CE','7ª VARA - FORTALEZA-CE','8ª VARA - FORTALEZA-CE','9ª VARA - FORTALEZA-CE','10ª VARA - FORTALEZA-CE',\n",
    "        '11ª VARA - FORTALEZA-CE','12ª VARA - FORTALEZA-CE','13ª VARA - JEF - FORTALEZA-CE','14ª VARA - JEF - FORTALEZA-CE',\n",
    "        '20ª VARA - FORTALEZA-CE','21ª VARA - JEF - FORTALEZA-CE','26ª VARA - JEF - FORTALEZA - CE','28ª VARA - JEF - FORTALEZA-CE',\n",
    "        '32ª VARA - FORTALEZA-CE','33ª VARA - FORTALEZA-CE',\n",
    "        '1ª TURMA RECURSAL','2ª TURMA RECURSAL','2ª TURMA RECURSAL/JEF/CE','3ª TURMA RECURSAL','3ª TURMA RECURSAL/JEF/CE',\n",
    "        'DIRETORIA DO FORO','SECRETARIA ADMINISTRATIVA'\n",
    "    ],\n",
    "    'TOTAL_LIMOEIRO': ['15ª VARA - LIMOEIRO DO NORTE-CE','29ª VARA - JEF - LIMOEIRO DO NORTE - CE'],\n",
    "    'TOTAL_JUAZEIRO': ['16ª VARA - JUAZEIRO DO NORTE-CE','17ª VARA - JEF - JUAZEIRO DO NORTE-CE','30ª VARA - JEF - JUAZEIRO DO NORTE - CE'],\n",
    "    'TOTAL_SOBRAL': ['18ª VARA - SOBRAL-CE','19ª VARA - JEF - SOBRAL-CE','31ª VARA - JEF - SOBRAL - CE'],\n",
    "    'TOTAL_CRATEUS': ['22ª VARA - CRATEÚS-CE'],\n",
    "    'TOTAL_QUIXADA': ['23ª VARA - QUIXADÁ-CE'],\n",
    "    'TOTAL_TAUA': ['24ª VARA - TAUÁ-CE'],\n",
    "    'TOTAL_IGUATU': ['25ª VARA - IGUATU-CE'],\n",
    "    'TOTAL_ITAPIPOCA': ['27ª VARA- ITAPIPOCA-CE'],\n",
    "    'TOTAL_MARACANAU': ['34ª VARA - MARACANAÚ-CE','35ª VARA - JEF - MARACANAÚ-CE'],\n",
    "    'TOTAL_SERVIDORES': ['TOTAL_FORTALEZA','TOTAL_LIMOEIRO''TOTAL_JUAZEIRO','TOTAL_SOBRAL','TOTAL_CRATEUS','TOTAL_QUIXADA','TOTAL_TAUA',\n",
    "                         'TOTAL_IGUATU','TOTAL_ITAPIPOCA', 'TOTAL_MARACANAU']\n",
    "}\n",
    "for nome_total, colunas in grupos_subsecao.items():\n",
    "    colunas_presentes = [col for col in colunas if col in tabela.columns]\n",
    "    tabela[nome_total] = tabela[colunas_presentes].sum(axis=1)"
   ]
  },
  {
   "cell_type": "code",
   "execution_count": 7,
   "id": "031af39f-eae8-4c70-9d4e-24919e7c6266",
   "metadata": {},
   "outputs": [],
   "source": [
    "ordem_colunas  = ['1ª VARA - FORTALEZA-CE','2ª VARA - FORTALEZA-CE','3ª VARA - FORTALEZA-CE','4ª VARA - FORTALEZA-CE','5ª VARA - FORTALEZA-CE',\n",
    "        '6ª VARA - FORTALEZA-CE','7ª VARA - FORTALEZA-CE','8ª VARA - FORTALEZA-CE','9ª VARA - FORTALEZA-CE','10ª VARA - FORTALEZA-CE',\n",
    "        '11ª VARA - FORTALEZA-CE','12ª VARA - FORTALEZA-CE','13ª VARA - JEF - FORTALEZA-CE','14ª VARA - JEF - FORTALEZA-CE',\n",
    "        '20ª VARA - FORTALEZA-CE','21ª VARA - JEF - FORTALEZA-CE','26ª VARA - JEF - FORTALEZA - CE','28ª VARA - JEF - FORTALEZA-CE',\n",
    "        '32ª VARA - FORTALEZA-CE','33ª VARA - FORTALEZA-CE',\n",
    "        '1ª TURMA RECURSAL','2ª TURMA RECURSAL','2ª TURMA RECURSAL/JEF/CE','3ª TURMA RECURSAL','3ª TURMA RECURSAL/JEF/CE',#Recursais\n",
    "        'DIRETORIA DO FORO','SECRETARIA ADMINISTRATIVA',\n",
    "        'TOTAL_FORTALEZA',\n",
    "        '15ª VARA - LIMOEIRO DO NORTE-CE','29ª VARA - JEF - LIMOEIRO DO NORTE - CE',#Faltou subdiretoria do foro\n",
    "        'TOTAL_LIMOEIRO',\n",
    "        '16ª VARA - JUAZEIRO DO NORTE-CE','17ª VARA - JEF - JUAZEIRO DO NORTE-CE','30ª VARA - JEF - JUAZEIRO DO NORTE - CE',#Faltou Sub Foro\n",
    "        'TOTAL_JUAZEIRO',\n",
    "        '18ª VARA - SOBRAL-CE','19ª VARA - JEF - SOBRAL-CE','31ª VARA - JEF - SOBRAL - CE',#Faltou subdiretoria do foro\n",
    "        'TOTAL_SOBRAL',\n",
    "        '22ª VARA - CRATEÚS-CE',#Faltou subdiretoria do foro\n",
    "        'TOTAL_CRATEUS',\n",
    "        '23ª VARA - QUIXADÁ-CE',#Faltou subdiretoria do foro\n",
    "        'TOTAL_QUIXADA',                 \n",
    "        '24ª VARA - TAUÁ-CE',#Faltou subdiretoria do foro\n",
    "        'TOTAL_TAUA',                 \n",
    "        '25ª VARA - IGUATU-CE',#Faltou subdiretoria do foro\n",
    "        'TOTAL_IGUATU',\n",
    "        '27ª VARA- ITAPIPOCA-CE',#Faltou subdiretoria do foro\n",
    "        'TOTAL_ITAPIPOCA',\n",
    "        '34ª VARA - MARACANAÚ-CE','35ª VARA - JEF - MARACANAÚ-CE',\n",
    "        'TOTAL_MARACANAU',\n",
    "        'TOTAL_SERVIDORES'\n",
    "         #Extras\n",
    "         'NUCLEO DE GESTAO DE PESSOAS','NUCLEO DE TECNOLOGIA DA INFORMAÇAO E COMUNICAÇAO','NUCLEO DE INFRAESTRUTURA E ADMINISTRAÇAO PREDIAL',\n",
    "         'NUCLEO DE ESTRATEGIA, GOVERNANÇA E INTEGRIDADE','NUCLEO DE AUDITORIA INTERNA']"
   ]
  },
  {
   "cell_type": "code",
   "execution_count": 8,
   "id": "dfe10ce5-5608-45c8-abbc-eef355db3ba7",
   "metadata": {},
   "outputs": [],
   "source": [
    "colunas_presentes_ordenadas = [col for col in ordem_colunas if col in tabela.columns]\n",
    "tabela_ordenada = tabela[colunas_presentes_ordenadas]"
   ]
  },
  {
   "cell_type": "code",
   "execution_count": 9,
   "id": "88b5b7ac-a216-4017-888d-ac3db656cf55",
   "metadata": {
    "scrolled": true
   },
   "outputs": [],
   "source": [
    "def limpar_nome_aba(nome):\n",
    "    return re.sub(r'[\\[\\]\\:\\*\\?\\/\\\\]', '', nome)[:31]\n",
    "\n",
    "ordem_abas = ['SECRETARIA ADMINISTRATIVA','DIRETORIA DO FORO',\n",
    "    '1ª TURMA RECURSAL','2ª TURMA RECURSAL','3ª TURMA RECURSAL','2ª TURMA RECURSAL/JEF/CE','3ª TURMA RECURSAL/JEF/CE',\n",
    "    '1ª VARA - FORTALEZA-CE','2ª VARA - FORTALEZA-CE','3ª VARA - FORTALEZA-CE' \n",
    "    '4ª VARA - FORTALEZA-CE', '5ª VARA - FORTALEZA-CE', '6ª VARA - FORTALEZA-CE',\n",
    "    '7ª VARA - FORTALEZA-CE', '8ª VARA - FORTALEZA-CE', '9ª VARA - FORTALEZA-CE',\n",
    "    '10ª VARA - FORTALEZA-CE', '11ª VARA - FORTALEZA-CE', '12ª VARA - FORTALEZA-CE',\n",
    "    '13ª VARA - JEF - FORTALEZA-CE', '14ª VARA - JEF - FORTALEZA-CE',\n",
    "    '15ª VARA - LIMOEIRO DO NORTE-CE', '16ª VARA - JUAZEIRO DO NORTE-CE',\n",
    "    '17ª VARA - JEF - JUAZEIRO DO NORTE-CE', '18ª VARA - SOBRAL-CE',\n",
    "    '19ª VARA - JEF - SOBRAL-CE', '20ª VARA - FORTALEZA-CE',\n",
    "    '21ª VARA - JEF - FORTALEZA-CE', '22ª VARA - CRATEÚS-CE',\n",
    "    '23ª VARA - QUIXADÁ-CE', '24ª VARA - TAUÁ-CE', '25ª VARA - IGUATU-CE',\n",
    "    '26ª VARA - JEF - FORTALEZA - CE', '27ª VARA- ITAPIPOCA-CE',\n",
    "    '28ª VARA - JEF - FORTALEZA-CE', '29ª VARA - JEF - LIMOEIRO DO NORTE - CE',\n",
    "    '30ª VARA - JEF - JUAZEIRO DO NORTE - CE', '31ª VARA - JEF - SOBRAL - CE',\n",
    "    '32ª VARA - FORTALEZA-CE', '33ª VARA - FORTALEZA-CE',\n",
    "    '34ª VARA - MARACANAÚ-CE', '35ª VARA - JEF - MARACANAÚ-CE',\n",
    "    'NUCLEO DE AUDITORIA INTERNA',\n",
    "    'NUCLEO DE ESTRATEGIA, GOVERNANÇA E INTEGRIDADE',\n",
    "    'NUCLEO DE GESTAO DE PESSOAS',\n",
    "    'NUCLEO DE INFRAESTRUTURA E ADMINISTRAÇAO PREDIAL',\n",
    "    'NUCLEO DE TECNOLOGIA DA INFORMAÇAO E COMUNICAÇAO',\n",
    "]\n",
    "\n",
    "arquivo_saida = \"tabela_contingencia_ordenada.xlsx\"\n",
    "\n",
    "with pd.ExcelWriter(arquivo_saida, engine='openpyxl') as writer:\n",
    "    tabela_ordenada.to_excel(writer, sheet_name=\"Mapa da Corregedoria\")\n",
    "    abas_usadas = set()\n",
    "    for lotacao in ordem_abas:\n",
    "        if lotacao in dados['LOTACAO_PAI'].unique():\n",
    "            df_lotacao = dados[dados['LOTACAO_PAI'] == lotacao]\n",
    "            aba = limpar_nome_aba(lotacao)\n",
    "            while aba in abas_usadas:\n",
    "                aba += \"_\"\n",
    "                aba = aba[:31]\n",
    "            abas_usadas.add(aba)\n",
    "            df_lotacao.to_excel(writer, sheet_name=aba, index=False)"
   ]
  }
 ],
 "metadata": {
  "kernelspec": {
   "display_name": "Python 3 (ipykernel)",
   "language": "python",
   "name": "python3"
  },
  "language_info": {
   "codemirror_mode": {
    "name": "ipython",
    "version": 3
   },
   "file_extension": ".py",
   "mimetype": "text/x-python",
   "name": "python",
   "nbconvert_exporter": "python",
   "pygments_lexer": "ipython3",
   "version": "3.11.0"
  }
 },
 "nbformat": 4,
 "nbformat_minor": 5
}
